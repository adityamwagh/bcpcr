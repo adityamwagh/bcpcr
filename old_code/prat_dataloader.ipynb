{
    "cells": [
        {
            "cell_type": "code",
            "execution_count": 1,
            "metadata": {},
            "outputs": [
                {
                    "name": "stdout",
                    "output_type": "stream",
                    "text": [
                        "Jupyter environment detected. Enabling Open3D WebVisualizer.\n",
                        "[Open3D INFO] WebRTC GUI backend enabled.\n",
                        "[Open3D INFO] WebRTCWindowSystem: HTTP handshake server disabled.\n"
                    ]
                }
            ],
            "source": [
                "import open3d as o3d\n",
                "from torch.utils.data import DataLoader\n",
                "\n",
                "import utils\n",
                "from KITTI import KITTINMPairDataset"
            ]
        },
        {
            "cell_type": "code",
            "execution_count": 2,
            "metadata": {},
            "outputs": [],
            "source": [
                "# get pair of point clouds from the dataset\n",
                "dataset = KITTINMPairDataset(phase=\"train\")\n",
                "loader = DataLoader(dataset, batch_size=1, shuffle=False, drop_last=True)"
            ]
        },
        {
            "cell_type": "code",
            "execution_count": 21,
            "metadata": {},
            "outputs": [],
            "source": [
                "for idx, (a, b) in enumerate(loader):\n",
                "     if idx == 0:\n",
                "         pc_pair, gt_pose = a, b\n",
                "         break\n",
                "     \n",
                "pc_pair = pc_pair.float()\n",
                "R, t = utils.get_rot_trans(gt_pose)\n",
                "R, t = R.float().squeeze(0), t.float().squeeze(0)\n",
                "\n",
                "# get source and target point clouds from data\n",
                "src = pc_pair[0, 0, :, :]\n",
                "tgt = pc_pair[0, 1, :, :]\n",
                "src_t = R @ src.T + t.view(3, 1)"
            ]
        },
        {
            "cell_type": "code",
            "execution_count": 26,
            "metadata": {},
            "outputs": [
                {
                    "data": {
                        "text/plain": [
                            "PointCloud with 4415 points."
                        ]
                    },
                    "execution_count": 26,
                    "metadata": {},
                    "output_type": "execute_result"
                }
            ],
            "source": [
                "src_pcd = o3d.geometry.PointCloud()\n",
                "src_pcd.points = o3d.utility.Vector3dVector(src)\n",
                "src_pcd.paint_uniform_color([1, 0, 0])\n",
                "\n",
                "src_tpcd = o3d.geometry.PointCloud()\n",
                "src_tpcd.points = o3d.utility.Vector3dVector(src_t.T)\n",
                "src_tpcd.paint_uniform_color([0, 0, 1])\n",
                "\n",
                "tgt_pcd = o3d.geometry.PointCloud()\n",
                "tgt_pcd.points = o3d.utility.Vector3dVector(tgt)\n",
                "tgt_pcd.paint_uniform_color([0, 1, 0])"
            ]
        },
        {
            "cell_type": "code",
            "execution_count": 28,
            "metadata": {},
            "outputs": [
                {
                    "ename": "KeyboardInterrupt",
                    "evalue": "",
                    "output_type": "error",
                    "traceback": [
                        "\u001b[0;31m---------------------------------------------------------------------------\u001b[0m",
                        "\u001b[0;31mKeyboardInterrupt\u001b[0m                         Traceback (most recent call last)",
                        "Cell \u001b[0;32mIn [28], line 1\u001b[0m\n\u001b[0;32m----> 1\u001b[0m o3d\u001b[39m.\u001b[39;49mvisualization\u001b[39m.\u001b[39;49mdraw_geometries([tgt_pcd, src_pcd, src_tpcd])\n",
                        "\u001b[0;31mKeyboardInterrupt\u001b[0m: "
                    ]
                }
            ],
            "source": [
                "o3d.visualization.draw_geometries([tgt_pcd, src_pcd, src_tpcd])"
            ]
        }
    ],
    "metadata": {
        "kernelspec": {
            "display_name": "bcpcr",
            "language": "python",
            "name": "python3"
        },
        "language_info": {
            "codemirror_mode": {
                "name": "ipython",
                "version": 3
            },
            "file_extension": ".py",
            "mimetype": "text/x-python",
            "name": "python",
            "nbconvert_exporter": "python",
            "pygments_lexer": "ipython3",
            "version": "3.9.15 | packaged by conda-forge | (main, Nov 22 2022, 15:55:03) \n[GCC 10.4.0]"
        },
        "orig_nbformat": 4,
        "vscode": {
            "interpreter": {
                "hash": "67cf8d80a19f793a9f6a46e08eb40e09670ed0f9cfb1eafc9b6778a2d86e7a47"
            }
        }
    },
    "nbformat": 4,
    "nbformat_minor": 2
}
